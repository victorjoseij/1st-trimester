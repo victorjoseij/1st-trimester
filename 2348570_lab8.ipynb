{
  "nbformat": 4,
  "nbformat_minor": 0,
  "metadata": {
    "colab": {
      "provenance": [],
      "authorship_tag": "ABX9TyOUDGu2FOtHuNOOR4eHetay",
      "include_colab_link": true
    },
    "kernelspec": {
      "name": "python3",
      "display_name": "Python 3"
    },
    "language_info": {
      "name": "python"
    }
  },
  "cells": [
    {
      "cell_type": "markdown",
      "metadata": {
        "id": "view-in-github",
        "colab_type": "text"
      },
      "source": [
        "<a href=\"https://colab.research.google.com/github/victorjoseij/1st-trimester/blob/main/2348570_lab8.ipynb\" target=\"_parent\"><img src=\"https://colab.research.google.com/assets/colab-badge.svg\" alt=\"Open In Colab\"/></a>"
      ]
    },
    {
      "cell_type": "code",
      "source": [
        "import pandas as pd\n",
        "import numpy as np\n",
        "import matplotlib.pyplot as plt\n",
        "import seaborn as sns"
      ],
      "metadata": {
        "id": "SKfXwt5W_pdR"
      },
      "execution_count": 32,
      "outputs": []
    },
    {
      "cell_type": "code",
      "source": [
        "df = pd.read_csv('/content/emails (1).csv')"
      ],
      "metadata": {
        "id": "CLS1sjCzFAF2"
      },
      "execution_count": 33,
      "outputs": []
    },
    {
      "cell_type": "code",
      "source": [
        "df.shape"
      ],
      "metadata": {
        "colab": {
          "base_uri": "https://localhost:8080/"
        },
        "id": "YEZDcA7dFTM_",
        "outputId": "89f0e5f7-90cc-4f1d-a6dc-9f3dc2a6b7df"
      },
      "execution_count": 34,
      "outputs": [
        {
          "output_type": "execute_result",
          "data": {
            "text/plain": [
              "(5728, 2)"
            ]
          },
          "metadata": {},
          "execution_count": 34
        }
      ]
    },
    {
      "cell_type": "code",
      "source": [
        "df.head()"
      ],
      "metadata": {
        "colab": {
          "base_uri": "https://localhost:8080/",
          "height": 206
        },
        "id": "RfOCTLU4FovW",
        "outputId": "68d573f2-efe7-4878-ae28-dad2e110fa2f"
      },
      "execution_count": 35,
      "outputs": [
        {
          "output_type": "execute_result",
          "data": {
            "text/plain": [
              "                                                text  spam\n",
              "0  Subject: naturally irresistible your corporate...     1\n",
              "1  Subject: the stock trading gunslinger  fanny i...     1\n",
              "2  Subject: unbelievable new homes made easy  im ...     1\n",
              "3  Subject: 4 color printing special  request add...     1\n",
              "4  Subject: do not have money , get software cds ...     1"
            ],
            "text/html": [
              "\n",
              "  <div id=\"df-0ce7725a-b5b4-43a9-826b-9332f403f188\" class=\"colab-df-container\">\n",
              "    <div>\n",
              "<style scoped>\n",
              "    .dataframe tbody tr th:only-of-type {\n",
              "        vertical-align: middle;\n",
              "    }\n",
              "\n",
              "    .dataframe tbody tr th {\n",
              "        vertical-align: top;\n",
              "    }\n",
              "\n",
              "    .dataframe thead th {\n",
              "        text-align: right;\n",
              "    }\n",
              "</style>\n",
              "<table border=\"1\" class=\"dataframe\">\n",
              "  <thead>\n",
              "    <tr style=\"text-align: right;\">\n",
              "      <th></th>\n",
              "      <th>text</th>\n",
              "      <th>spam</th>\n",
              "    </tr>\n",
              "  </thead>\n",
              "  <tbody>\n",
              "    <tr>\n",
              "      <th>0</th>\n",
              "      <td>Subject: naturally irresistible your corporate...</td>\n",
              "      <td>1</td>\n",
              "    </tr>\n",
              "    <tr>\n",
              "      <th>1</th>\n",
              "      <td>Subject: the stock trading gunslinger  fanny i...</td>\n",
              "      <td>1</td>\n",
              "    </tr>\n",
              "    <tr>\n",
              "      <th>2</th>\n",
              "      <td>Subject: unbelievable new homes made easy  im ...</td>\n",
              "      <td>1</td>\n",
              "    </tr>\n",
              "    <tr>\n",
              "      <th>3</th>\n",
              "      <td>Subject: 4 color printing special  request add...</td>\n",
              "      <td>1</td>\n",
              "    </tr>\n",
              "    <tr>\n",
              "      <th>4</th>\n",
              "      <td>Subject: do not have money , get software cds ...</td>\n",
              "      <td>1</td>\n",
              "    </tr>\n",
              "  </tbody>\n",
              "</table>\n",
              "</div>\n",
              "    <div class=\"colab-df-buttons\">\n",
              "\n",
              "  <div class=\"colab-df-container\">\n",
              "    <button class=\"colab-df-convert\" onclick=\"convertToInteractive('df-0ce7725a-b5b4-43a9-826b-9332f403f188')\"\n",
              "            title=\"Convert this dataframe to an interactive table.\"\n",
              "            style=\"display:none;\">\n",
              "\n",
              "  <svg xmlns=\"http://www.w3.org/2000/svg\" height=\"24px\" viewBox=\"0 -960 960 960\">\n",
              "    <path d=\"M120-120v-720h720v720H120Zm60-500h600v-160H180v160Zm220 220h160v-160H400v160Zm0 220h160v-160H400v160ZM180-400h160v-160H180v160Zm440 0h160v-160H620v160ZM180-180h160v-160H180v160Zm440 0h160v-160H620v160Z\"/>\n",
              "  </svg>\n",
              "    </button>\n",
              "\n",
              "  <style>\n",
              "    .colab-df-container {\n",
              "      display:flex;\n",
              "      gap: 12px;\n",
              "    }\n",
              "\n",
              "    .colab-df-convert {\n",
              "      background-color: #E8F0FE;\n",
              "      border: none;\n",
              "      border-radius: 50%;\n",
              "      cursor: pointer;\n",
              "      display: none;\n",
              "      fill: #1967D2;\n",
              "      height: 32px;\n",
              "      padding: 0 0 0 0;\n",
              "      width: 32px;\n",
              "    }\n",
              "\n",
              "    .colab-df-convert:hover {\n",
              "      background-color: #E2EBFA;\n",
              "      box-shadow: 0px 1px 2px rgba(60, 64, 67, 0.3), 0px 1px 3px 1px rgba(60, 64, 67, 0.15);\n",
              "      fill: #174EA6;\n",
              "    }\n",
              "\n",
              "    .colab-df-buttons div {\n",
              "      margin-bottom: 4px;\n",
              "    }\n",
              "\n",
              "    [theme=dark] .colab-df-convert {\n",
              "      background-color: #3B4455;\n",
              "      fill: #D2E3FC;\n",
              "    }\n",
              "\n",
              "    [theme=dark] .colab-df-convert:hover {\n",
              "      background-color: #434B5C;\n",
              "      box-shadow: 0px 1px 3px 1px rgba(0, 0, 0, 0.15);\n",
              "      filter: drop-shadow(0px 1px 2px rgba(0, 0, 0, 0.3));\n",
              "      fill: #FFFFFF;\n",
              "    }\n",
              "  </style>\n",
              "\n",
              "    <script>\n",
              "      const buttonEl =\n",
              "        document.querySelector('#df-0ce7725a-b5b4-43a9-826b-9332f403f188 button.colab-df-convert');\n",
              "      buttonEl.style.display =\n",
              "        google.colab.kernel.accessAllowed ? 'block' : 'none';\n",
              "\n",
              "      async function convertToInteractive(key) {\n",
              "        const element = document.querySelector('#df-0ce7725a-b5b4-43a9-826b-9332f403f188');\n",
              "        const dataTable =\n",
              "          await google.colab.kernel.invokeFunction('convertToInteractive',\n",
              "                                                    [key], {});\n",
              "        if (!dataTable) return;\n",
              "\n",
              "        const docLinkHtml = 'Like what you see? Visit the ' +\n",
              "          '<a target=\"_blank\" href=https://colab.research.google.com/notebooks/data_table.ipynb>data table notebook</a>'\n",
              "          + ' to learn more about interactive tables.';\n",
              "        element.innerHTML = '';\n",
              "        dataTable['output_type'] = 'display_data';\n",
              "        await google.colab.output.renderOutput(dataTable, element);\n",
              "        const docLink = document.createElement('div');\n",
              "        docLink.innerHTML = docLinkHtml;\n",
              "        element.appendChild(docLink);\n",
              "      }\n",
              "    </script>\n",
              "  </div>\n",
              "\n",
              "\n",
              "<div id=\"df-9a42f2e9-4188-49d3-b739-7bfd442a544f\">\n",
              "  <button class=\"colab-df-quickchart\" onclick=\"quickchart('df-9a42f2e9-4188-49d3-b739-7bfd442a544f')\"\n",
              "            title=\"Suggest charts.\"\n",
              "            style=\"display:none;\">\n",
              "\n",
              "<svg xmlns=\"http://www.w3.org/2000/svg\" height=\"24px\"viewBox=\"0 0 24 24\"\n",
              "     width=\"24px\">\n",
              "    <g>\n",
              "        <path d=\"M19 3H5c-1.1 0-2 .9-2 2v14c0 1.1.9 2 2 2h14c1.1 0 2-.9 2-2V5c0-1.1-.9-2-2-2zM9 17H7v-7h2v7zm4 0h-2V7h2v10zm4 0h-2v-4h2v4z\"/>\n",
              "    </g>\n",
              "</svg>\n",
              "  </button>\n",
              "\n",
              "<style>\n",
              "  .colab-df-quickchart {\n",
              "      --bg-color: #E8F0FE;\n",
              "      --fill-color: #1967D2;\n",
              "      --hover-bg-color: #E2EBFA;\n",
              "      --hover-fill-color: #174EA6;\n",
              "      --disabled-fill-color: #AAA;\n",
              "      --disabled-bg-color: #DDD;\n",
              "  }\n",
              "\n",
              "  [theme=dark] .colab-df-quickchart {\n",
              "      --bg-color: #3B4455;\n",
              "      --fill-color: #D2E3FC;\n",
              "      --hover-bg-color: #434B5C;\n",
              "      --hover-fill-color: #FFFFFF;\n",
              "      --disabled-bg-color: #3B4455;\n",
              "      --disabled-fill-color: #666;\n",
              "  }\n",
              "\n",
              "  .colab-df-quickchart {\n",
              "    background-color: var(--bg-color);\n",
              "    border: none;\n",
              "    border-radius: 50%;\n",
              "    cursor: pointer;\n",
              "    display: none;\n",
              "    fill: var(--fill-color);\n",
              "    height: 32px;\n",
              "    padding: 0;\n",
              "    width: 32px;\n",
              "  }\n",
              "\n",
              "  .colab-df-quickchart:hover {\n",
              "    background-color: var(--hover-bg-color);\n",
              "    box-shadow: 0 1px 2px rgba(60, 64, 67, 0.3), 0 1px 3px 1px rgba(60, 64, 67, 0.15);\n",
              "    fill: var(--button-hover-fill-color);\n",
              "  }\n",
              "\n",
              "  .colab-df-quickchart-complete:disabled,\n",
              "  .colab-df-quickchart-complete:disabled:hover {\n",
              "    background-color: var(--disabled-bg-color);\n",
              "    fill: var(--disabled-fill-color);\n",
              "    box-shadow: none;\n",
              "  }\n",
              "\n",
              "  .colab-df-spinner {\n",
              "    border: 2px solid var(--fill-color);\n",
              "    border-color: transparent;\n",
              "    border-bottom-color: var(--fill-color);\n",
              "    animation:\n",
              "      spin 1s steps(1) infinite;\n",
              "  }\n",
              "\n",
              "  @keyframes spin {\n",
              "    0% {\n",
              "      border-color: transparent;\n",
              "      border-bottom-color: var(--fill-color);\n",
              "      border-left-color: var(--fill-color);\n",
              "    }\n",
              "    20% {\n",
              "      border-color: transparent;\n",
              "      border-left-color: var(--fill-color);\n",
              "      border-top-color: var(--fill-color);\n",
              "    }\n",
              "    30% {\n",
              "      border-color: transparent;\n",
              "      border-left-color: var(--fill-color);\n",
              "      border-top-color: var(--fill-color);\n",
              "      border-right-color: var(--fill-color);\n",
              "    }\n",
              "    40% {\n",
              "      border-color: transparent;\n",
              "      border-right-color: var(--fill-color);\n",
              "      border-top-color: var(--fill-color);\n",
              "    }\n",
              "    60% {\n",
              "      border-color: transparent;\n",
              "      border-right-color: var(--fill-color);\n",
              "    }\n",
              "    80% {\n",
              "      border-color: transparent;\n",
              "      border-right-color: var(--fill-color);\n",
              "      border-bottom-color: var(--fill-color);\n",
              "    }\n",
              "    90% {\n",
              "      border-color: transparent;\n",
              "      border-bottom-color: var(--fill-color);\n",
              "    }\n",
              "  }\n",
              "</style>\n",
              "\n",
              "  <script>\n",
              "    async function quickchart(key) {\n",
              "      const quickchartButtonEl =\n",
              "        document.querySelector('#' + key + ' button');\n",
              "      quickchartButtonEl.disabled = true;  // To prevent multiple clicks.\n",
              "      quickchartButtonEl.classList.add('colab-df-spinner');\n",
              "      try {\n",
              "        const charts = await google.colab.kernel.invokeFunction(\n",
              "            'suggestCharts', [key], {});\n",
              "      } catch (error) {\n",
              "        console.error('Error during call to suggestCharts:', error);\n",
              "      }\n",
              "      quickchartButtonEl.classList.remove('colab-df-spinner');\n",
              "      quickchartButtonEl.classList.add('colab-df-quickchart-complete');\n",
              "    }\n",
              "    (() => {\n",
              "      let quickchartButtonEl =\n",
              "        document.querySelector('#df-9a42f2e9-4188-49d3-b739-7bfd442a544f button');\n",
              "      quickchartButtonEl.style.display =\n",
              "        google.colab.kernel.accessAllowed ? 'block' : 'none';\n",
              "    })();\n",
              "  </script>\n",
              "</div>\n",
              "    </div>\n",
              "  </div>\n"
            ]
          },
          "metadata": {},
          "execution_count": 35
        }
      ]
    },
    {
      "cell_type": "code",
      "source": [
        "print(df['spam'].sum())\n",
        "print(df.isnull().sum())\n",
        "print(df.dtypes)"
      ],
      "metadata": {
        "colab": {
          "base_uri": "https://localhost:8080/"
        },
        "id": "2jsyXSxvFzZ7",
        "outputId": "62b6aa73-a8b8-4316-a850-feacdc2d77e1"
      },
      "execution_count": 36,
      "outputs": [
        {
          "output_type": "stream",
          "name": "stdout",
          "text": [
            "1368\n",
            "text    0\n",
            "spam    0\n",
            "dtype: int64\n",
            "text    object\n",
            "spam     int64\n",
            "dtype: object\n"
          ]
        }
      ]
    },
    {
      "cell_type": "code",
      "source": [
        "spam_count=df['spam'].value_counts()\n",
        "\n",
        "#bar chart\n",
        "plt.figure(figsize=(5,5))\n",
        "plt.bar(spam_count.index, spam_count.values, color=['pink','lightblue'])\n",
        "plt.xticks(spam_count.index, ['Not Spam','Spam'])\n",
        "plt.ylabel('Count')\n",
        "plt.title('Spam vs. Not Spam')\n",
        "plt.show()"
      ],
      "metadata": {
        "colab": {
          "base_uri": "https://localhost:8080/",
          "height": 468
        },
        "id": "2-qoE3pvF2bj",
        "outputId": "ea2cdb8a-3198-4a57-ad3f-3282d3d1208f"
      },
      "execution_count": 37,
      "outputs": [
        {
          "output_type": "display_data",
          "data": {
            "text/plain": [
              "<Figure size 500x500 with 1 Axes>"
            ],
            "image/png": "[encoded data removed]"
          },
          "metadata": {}
        }
      ]
    },
    {
      "cell_type": "code",
      "source": [
        "labels=['Not Spam', 'Spam']\n",
        "colors = ['pink', 'lightblue']\n",
        "\n",
        "plt.pie(spam_count, labels=labels, colors=colors, autopct='%1.f%%', startangle=45)\n",
        "plt.axis('equal')\n",
        "plt.title('Distribution (Spam vs. Not Spam)')\n",
        "plt.show()"
      ],
      "metadata": {
        "colab": {
          "base_uri": "https://localhost:8080/",
          "height": 428
        },
        "id": "vLmzXG5AF91U",
        "outputId": "012a3169-b9ac-46ef-fb4e-0d25e00197b1"
      },
      "execution_count": 38,
      "outputs": [
        {
          "output_type": "display_data",
          "data": {
            "text/plain": [
              "<Figure size 640x480 with 1 Axes>"
            ],
            "image/png": "[encoded data removed]"
          },
          "metadata": {}
        }
      ]
    },
    {
      "cell_type": "code",
      "source": [
        "from sklearn.model_selection import train_test_split\n",
        "from sklearn.feature_extraction.text import CountVectorizer, TfidfVectorizer\n",
        "from sklearn.naive_bayes import GaussianNB, MultinomialNB, BernoulliNB\n",
        "from sklearn.metrics import accuracy_score, classification_report, confusion_matrix"
      ],
      "metadata": {
        "id": "I-1tkzr0GIoO"
      },
      "execution_count": 39,
      "outputs": []
    },
    {
      "cell_type": "code",
      "source": [
        "# Split the data into training and testing sets\n",
        "X_train, X_test, y_train, y_test = train_test_split(df['text'], df['spam'], test_size=0.2, random_state=33)\n",
        "\n",
        "# Vectorize the text data using TF-IDF\n",
        "tfidf_vector = TfidfVectorizer(max_features=5000, stop_words='english')\n",
        "X_tfidf_train = tfidf_vector.fit_transform(X_train)\n",
        "X_tfidf_test = tfidf_vector.transform(X_test)"
      ],
      "metadata": {
        "id": "iYlSLGtCGL-7"
      },
      "execution_count": 40,
      "outputs": []
    },
    {
      "cell_type": "code",
      "source": [
        "# Initialize and train the Multinomial Naive Bayes classifier\n",
        "mnb = MultinomialNB()\n",
        "mnb.fit(X_tfidf_train, y_train)\n",
        "mnb_preds = mnb.predict(X_tfidf_test)\n",
        "\n",
        "print(\"\\nMultinomial Naive Bayes:\")\n",
        "print(\"Accuracy:\", accuracy_score(y_test, mnb_preds))\n",
        "print(\"Classification Report:\\n\", classification_report(y_test, mnb_preds))\n",
        "print(\"Confusion Matrix:\\n\", confusion_matrix(y_test, mnb_preds))"
      ],
      "metadata": {
        "colab": {
          "base_uri": "https://localhost:8080/"
        },
        "id": "Dy8s1nijGPFL",
        "outputId": "ef6dd941-f824-4827-cf89-b89ebaf5c09c"
      },
      "execution_count": 41,
      "outputs": [
        {
          "output_type": "stream",
          "name": "stdout",
          "text": [
            "\n",
            "Multinomial Naive Bayes:\n",
            "Accuracy: 0.9842931937172775\n",
            "Classification Report:\n",
            "               precision    recall  f1-score   support\n",
            "\n",
            "           0       0.98      1.00      0.99       881\n",
            "           1       0.98      0.95      0.97       265\n",
            "\n",
            "    accuracy                           0.98      1146\n",
            "   macro avg       0.98      0.97      0.98      1146\n",
            "weighted avg       0.98      0.98      0.98      1146\n",
            "\n",
            "Confusion Matrix:\n",
            " [[877   4]\n",
            " [ 14 251]]\n"
          ]
        }
      ]
    },
    {
      "cell_type": "code",
      "source": [
        "from sklearn.naive_bayes import MultinomialNB, BernoulliNB\n",
        "\n",
        "# Initialize and train the Multinomial Naive Bayes classifier with Laplace smoothing\n",
        "mnb_with_smoothing = MultinomialNB(alpha=1.0)  # The alpha parameter controls the amount of smoothing (1.0 for Laplace)\n",
        "mnb_with_smoothing.fit(X_tfidf_train, y_train)\n",
        "mnb_with_smoothing_predictions = mnb_with_smoothing.predict(X_tfidf_test)"
      ],
      "metadata": {
        "id": "m0cX9RBwGTeg"
      },
      "execution_count": 42,
      "outputs": []
    },
    {
      "cell_type": "code",
      "source": [
        "# Evaluate the models with smoothing\n",
        "print(\"Multinomial Naive Bayes with Laplace Smoothing:\")\n",
        "print(\"Accuracy:\", accuracy_score(y_test, mnb_with_smoothing_predictions))\n",
        "print(\"Classification Report:\\n\", classification_report(y_test, mnb_with_smoothing_predictions))\n",
        "print(\"Confusion Matrix:\\n\", confusion_matrix(y_test, mnb_with_smoothing_predictions))"
      ],
      "metadata": {
        "colab": {
          "base_uri": "https://localhost:8080/"
        },
        "id": "Z8rhEbTyGXKv",
        "outputId": "e731961c-75db-4edd-aeee-4bee8cf32136"
      },
      "execution_count": 43,
      "outputs": [
        {
          "output_type": "stream",
          "name": "stdout",
          "text": [
            "Multinomial Naive Bayes with Laplace Smoothing:\n",
            "Accuracy: 0.9842931937172775\n",
            "Classification Report:\n",
            "               precision    recall  f1-score   support\n",
            "\n",
            "           0       0.98      1.00      0.99       881\n",
            "           1       0.98      0.95      0.97       265\n",
            "\n",
            "    accuracy                           0.98      1146\n",
            "   macro avg       0.98      0.97      0.98      1146\n",
            "weighted avg       0.98      0.98      0.98      1146\n",
            "\n",
            "Confusion Matrix:\n",
            " [[877   4]\n",
            " [ 14 251]]\n"
          ]
        }
      ]
    },
    {
      "cell_type": "code",
      "source": [
        "from sklearn.metrics import confusion_matrix\n",
        "\n",
        "# Compute the confusion matrix for Multinomial Naive Bayes predictions\n",
        "conf_matrix = confusion_matrix(y_test, mnb_with_smoothing_predictions)\n",
        "\n",
        "# Define class labels\n",
        "class_labels = [\"Not Spam\", \"Spam\"]\n",
        "\n",
        "# Create a heatmap\n",
        "plt.figure(figsize=(8, 6))\n",
        "sns.heatmap(conf_matrix, annot=True, fmt=\"d\", cmap=\"pink\", xticklabels=class_labels, yticklabels=class_labels)\n",
        "plt.xlabel('Predicted')\n",
        "plt.ylabel('Actual')\n",
        "plt.title('Confusion Matrix for Multinomial Naive Bayes')\n",
        "plt.show()"
      ],
      "metadata": {
        "colab": {
          "base_uri": "https://localhost:8080/",
          "height": 564
        },
        "id": "V2nz_9ixGbw0",
        "outputId": "12b37220-8751-4c0e-a01c-e317f19959a0"
      },
      "execution_count": 44,
      "outputs": [
        {
          "output_type": "display_data",
          "data": {
            "text/plain": [
              "<Figure size 800x600 with 2 Axes>"
            ],
            "image/png": "[encoded data removed]"
          },
          "metadata": {}
        }
      ]
    },
    {
      "cell_type": "code",
      "source": [
        "from sklearn.metrics import roc_curve, auc\n",
        "\n",
        "# Generate probability predictions using predict_proba\n",
        "mnb_prob_predictions = mnb_with_smoothing.predict_proba(X_test_tfidf)[:, 1]  # Use [:, 1] for the positive class\n",
        "\n",
        "true_labels = y_test\n",
        "\n",
        "# Compute ROC curve and ROC area (AUC) for Multinomial Naive Bayes\n",
        "fpr_mnb, tpr_mnb, thresholds_mnb = roc_curve(true_labels, mnb_prob_predictions)\n",
        "roc_auc_mnb = auc(fpr_mnb, tpr_mnb)\n",
        "\n",
        "# Calculate the Youden's J statistic for each threshold\n",
        "youden_j = tpr_mnb - fpr_mnb\n",
        "optimal_threshold_index = np.argmax(youden_j)\n",
        "optimal_threshold = thresholds_mnb[optimal_threshold_index]\n",
        "\n",
        "# Create the ROC curve plot for Multinomial Naive Bayes\n",
        "plt.figure(figsize=(8, 6))\n",
        "plt.plot(fpr_mnb, tpr_mnb, color='darkorange', lw=2, label='Multinomial Naive Bayes ROC curve (area = {:.2f})'.format(roc_auc_mnb))\n",
        "\n",
        "# Show the ROC curve plot for Multinomial Naive Bayes\n",
        "plt.plot([0, 1], [0, 1], color='navy', lw=2, linestyle='--')\n",
        "plt.xlim([0.0, 1.0])\n",
        "plt.ylim([0.0, 1.05])\n",
        "plt.xlabel('False Positive Rate (1 - Specificity)')\n",
        "plt.ylabel('True Positive Rate (Sensitivity/Recall)')\n",
        "plt.title('Receiver Operating Characteristic (ROC) Curve')\n",
        "plt.legend(loc='lower right')\n",
        "\n",
        "# Print ROC AUC value for Multinomial Naive Bayes\n",
        "print('Multinomial Naive Bayes - ROC AUC: {:.2f}'.format(roc_auc_mnb))\n",
        "\n",
        "# Print threshold that maximizes Youden's J statistic for Multinomial Naive Bayes\n",
        "print('Threshold for Minimizing FPR: {:.4f}'.format(optimal_threshold))\n",
        "plt.show()"
      ],
      "metadata": {
        "colab": {
          "base_uri": "https://localhost:8080/",
          "height": 245
        },
        "id": "fVqIC-Si9Waz",
        "outputId": "49e67d3d-cf4d-42ba-d353-54158cd5aece"
      },
      "execution_count": 48,
      "outputs": [
        {
          "output_type": "error",
          "ename": "NameError",
          "evalue": "ignored",
          "traceback": [
            "\u001b[0;31m---------------------------------------------------------------------------\u001b[0m",
            "\u001b[0;31mNameError\u001b[0m                                 Traceback (most recent call last)",
            "\u001b[0;32m<ipython-input-48-7441768cae75>\u001b[0m in \u001b[0;36m<cell line: 4>\u001b[0;34m()\u001b[0m\n\u001b[1;32m      2\u001b[0m \u001b[0;34m\u001b[0m\u001b[0m\n\u001b[1;32m      3\u001b[0m \u001b[0;31m# Generate probability predictions using predict_proba\u001b[0m\u001b[0;34m\u001b[0m\u001b[0;34m\u001b[0m\u001b[0m\n\u001b[0;32m----> 4\u001b[0;31m \u001b[0mmnb_prob_predictions\u001b[0m \u001b[0;34m=\u001b[0m \u001b[0mmnb_with_smoothing\u001b[0m\u001b[0;34m.\u001b[0m\u001b[0mpredict_proba\u001b[0m\u001b[0;34m(\u001b[0m\u001b[0mx_test_tfidf\u001b[0m\u001b[0;34m)\u001b[0m\u001b[0;34m[\u001b[0m\u001b[0;34m:\u001b[0m\u001b[0;34m,\u001b[0m \u001b[0;36m1\u001b[0m\u001b[0;34m]\u001b[0m  \u001b[0;31m# Use [:, 1] for the positive class\u001b[0m\u001b[0;34m\u001b[0m\u001b[0;34m\u001b[0m\u001b[0m\n\u001b[0m\u001b[1;32m      5\u001b[0m \u001b[0;34m\u001b[0m\u001b[0m\n\u001b[1;32m      6\u001b[0m \u001b[0mtrue_labels\u001b[0m \u001b[0;34m=\u001b[0m \u001b[0my_test\u001b[0m\u001b[0;34m\u001b[0m\u001b[0;34m\u001b[0m\u001b[0m\n",
            "\u001b[0;31mNameError\u001b[0m: name 'x_test_tfidf' is not defined"
          ]
        }
      ]
    },
    {
      "cell_type": "markdown",
      "source": [],
      "metadata": {
        "id": "5Wyr2ukqJ90Q"
      }
    },
    {
      "cell_type": "code",
      "source": [
        "from sklearn.metrics import precision_recall_curve\n",
        "\n",
        "# Generate probability predictions using predict_proba\n",
        "mnb_prob_predictions = mnb_with_smoothing.predict_proba(X_test_tfidf)[:, 1]  # Use [:, 1] for the positive class\n",
        "\n",
        "true_labels = y_test\n",
        "\n",
        "# Calculate precision and recall at various thresholds\n",
        "precision, recall, thresholds = precision_recall_curve(true_labels, mnb_prob_predictions)\n",
        "\n",
        "# Create the precision-recall curve plot\n",
        "plt.figure(figsize=(8, 6))\n",
        "plt.plot(recall, precision, color='darkorange', lw=2)\n",
        "plt.xlabel('Recall (Sensitivity)')\n",
        "plt.ylabel('Precision')\n",
        "plt.title('Precision-Recall Curve')\n",
        "plt.xlim([0.0, 1.0])\n",
        "plt.ylim([0.0, 1.05])\n",
        "plt.show()"
      ],
      "metadata": {
        "id": "9usxd8nPHmEg"
      },
      "execution_count": null,
      "outputs": []
    },
    {
      "cell_type": "code",
      "source": [
        "import matplotlib.pyplot as plt\n",
        "import numpy as np\n",
        "\n",
        "mnb_model = mnb_with_smoothing\n",
        "\n",
        "# Get the log probabilities for the spam class (class 1)\n",
        "log_probabilities_spam = mnb_model.feature_log_prob_[1]\n",
        "\n",
        "# Get the feature names from your TF-IDF vectorizer's vocabulary\n",
        "feature_names = np.array(tfidf_vector.get_feature_names_out())\n",
        "\n",
        "# Sort the features based on log probabilities in descending order\n",
        "sorted_indices = np.argsort(log_probabilities_spam)[::-1]  # Descending order indices\n",
        "sorted_features = feature_names[sorted_indices]\n",
        "\n",
        "# Select the top N features\n",
        "top_n = 10  # Replace N with the desired number of top features\n",
        "top_features = sorted_features[:top_n]\n",
        "top_log_probabilities = log_probabilities_spam[sorted_indices][:top_n]\n",
        "\n",
        "# Create a horizontal bar chart\n",
        "plt.figure(figsize=(10, 6))\n",
        "plt.barh(top_features, top_log_probabilities, color='#FE5358')\n",
        "plt.xlabel('Log Probability (Spam Class)')\n",
        "plt.title('Top {} Important Features for Spam Detection - Horizontal Bar Chart'.format(top_n))\n",
        "plt.gca().invert_yaxis()  # Inverting y-axis to display the most important feature at the top\n",
        "plt.show()"
      ],
      "metadata": {
        "id": "vUPh7MxIHqfo"
      },
      "execution_count": null,
      "outputs": []
    },
    {
      "cell_type": "code",
      "source": [
        "from sklearn.metrics import accuracy_score, precision_score, recall_score, f1_score, roc_auc_score, classification_report, confusion_matrix\n",
        "\n",
        "accuracy = accuracy_score(y_test, mnb_with_smoothing_predictions)\n",
        "precision = precision_score(y_test, mnb_with_smoothing_predictions)\n",
        "recall = recall_score(y_test, mnb_with_smoothing_predictions)\n",
        "f1 = f1_score(y_test, mnb_with_smoothing_predictions)\n",
        "roc_auc = roc_auc_score(y_test, mnb_prob_predictions)\n",
        "\n",
        "metrics_dict = {\n",
        "    \"Accuracy\": accuracy,\n",
        "    \"Precision\": precision,\n",
        "    \"Recall\": recall,\n",
        "    \"F1-Score\": f1,\n",
        "    \"AUC-ROC\": roc_auc,\n",
        "}\n",
        "\n",
        "# Extract metric names and values\n",
        "metric_names = list(metrics_dict.keys())\n",
        "metric_values = list(metrics_dict.values())\n",
        "\n",
        "# Create a bar chart\n",
        "plt.figure(figsize=(10, 6))\n",
        "plt.bar(metric_names, metric_values, color='#F22AF5')\n",
        "plt.xlabel('Metric')\n",
        "plt.ylabel('Value')\n",
        "plt.title('Comprehensive Assessment of Model\\'s Performance with Laplace Smoothing')\n",
        "plt.show()"
      ],
      "metadata": {
        "id": "W6gQKnZ2HvEK"
      },
      "execution_count": null,
      "outputs": []
    },
    {
      "cell_type": "code",
      "source": [
        "from sklearn.metrics import precision_recall_curve\n",
        "\n",
        "fpr_mnb, tpr_mnb, thresholds_mnb\n",
        "\n",
        "# Calculate precision at various thresholds\n",
        "precision, recall, thresholds = precision_recall_curve(y_test, mnb_prob_predictions)\n",
        "\n",
        "# Create a line graph to show precision vs. recall at different thresholds\n",
        "plt.figure(figsize=(8, 6))\n",
        "plt.plot(thresholds, precision[:-1], label='Precision', color='navy', lw=2)\n",
        "plt.plot(thresholds, recall[:-1], label='Recall (Sensitivity)', color='darkorange', lw=2)\n",
        "plt.xlabel('Threshold')\n",
        "plt.ylabel('Score')\n",
        "plt.title('Precision and Recall vs. Threshold for Multinomial Naive Bayes')\n",
        "plt.legend(loc='lower left')\n",
        "plt.xlim([0, 1])\n",
        "plt.ylim([0, 1.05])\n",
        "plt.grid()\n",
        "plt.show()"
      ],
      "metadata": {
        "id": "WMoKnegNIDSo"
      },
      "execution_count": null,
      "outputs": []
    }
  ]
}